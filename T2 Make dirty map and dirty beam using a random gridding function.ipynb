{
 "cells": [
  {
   "cell_type": "markdown",
   "metadata": {},
   "source": [
    "So, I assume that you have already tried T1, and noticed how slowly a DFT process can be. Since FFT(short for \"Fast Fourier transform) came out, people started to try to replace DFT with FFT in radio interferometric imaging. By its name, FFT should be fast. The complexity is greatly reduced especially for large visibility datasets. This tutorial will help you to make a dirty map and a dirty beam using a random gridding function. Two examples will be given. Let's get started!"
   ]
  },
  {
   "cell_type": "code",
   "execution_count": 1,
   "metadata": {
    "collapsed": true
   },
   "outputs": [],
   "source": [
    "%matplotlib notebook\n",
    "import numpy as np\n",
    "import matplotlib.pyplot as plt\n",
    "import time"
   ]
  },
  {
   "cell_type": "code",
   "execution_count": 2,
   "metadata": {
    "collapsed": true
   },
   "outputs": [],
   "source": [
    "#########  Read in visibilities ##########\n",
    "X_size = 200 #image size on x-axis\n",
    "Y_size = 200 #image size on y-axis\n",
    "Vis = np.loadtxt('onesource.csv', usecols = range(0,5)) # read in visibilities\n",
    "u = np.transpose(Vis)[0] #u values\n",
    "v = np.transpose(Vis)[1] #v values\n",
    "w = np.transpose(Vis)[2] #w values\n",
    "jj = complex(0,1)\n",
    "V = np.transpose(Vis)[3] + jj * np.transpose(Vis)[4] #complex visibility values\n",
    "n_uv = len(u) #length of the data"
   ]
  },
  {
   "cell_type": "code",
   "execution_count": 3,
   "metadata": {
    "collapsed": false
   },
   "outputs": [
    {
     "name": "stdout",
     "output_type": "stream",
     "text": [
      "The pixel size on x-axis is  0.05  arcsec\n"
     ]
    }
   ],
   "source": [
    "#### Determine the pixel size ####\n",
    "X_min = -np.pi / 129600.  #You can change X_min and X_max in order to change the pixel size.\n",
    "X_max = np.pi / 129600.\n",
    "X = np.linspace(X_min, X_max, num=X_size+1)[0:X_size]\n",
    "Y_min = -np.pi / 129600.  #You can change Y_min and Y_max in order to change the pixel size.\n",
    "Y_max = np.pi / 129600. \n",
    "Y = np.linspace(Y_min,Y_max,num=Y_size+1)[0:Y_size]\n",
    "\n",
    "pixel_resol_x = 180. * 60. * 60. * (X_max - X_min) / np.pi / X_size #pixel size on x-axis\n",
    "pixel_resol_y = 180. * 60. * 60. * (Y_max - Y_min) / np.pi / Y_size #pixel size on y-axis\n",
    "print (\"The pixel size on x-axis is \", pixel_resol_x, \" arcsec\") "
   ]
  },
  {
   "cell_type": "code",
   "execution_count": null,
   "metadata": {
    "collapsed": true
   },
   "outputs": [],
   "source": []
  }
 ],
 "metadata": {
  "kernelspec": {
   "display_name": "Python 3",
   "language": "python",
   "name": "python3"
  },
  "language_info": {
   "codemirror_mode": {
    "name": "ipython",
    "version": 3
   },
   "file_extension": ".py",
   "mimetype": "text/x-python",
   "name": "python",
   "nbconvert_exporter": "python",
   "pygments_lexer": "ipython3",
   "version": "3.6.6"
  }
 },
 "nbformat": 4,
 "nbformat_minor": 2
}
